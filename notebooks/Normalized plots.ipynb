{
 "cells": [
  {
   "cell_type": "code",
   "execution_count": 1,
   "metadata": {
    "collapsed": false
   },
   "outputs": [
    {
     "name": "stdout",
     "output_type": "stream",
     "text": [
      "Query took  46\n",
      "59528\n"
     ]
    },
    {
     "name": "stderr",
     "output_type": "stream",
     "text": [
      "/Users/dirkhovy/anaconda/envs/py3.4/lib/python3.4/site-packages/pandas/core/common.py:516: FutureWarning: elementwise comparison failed; returning scalar instead, but in the future will perform elementwise comparison\n",
      "  mask = arr == x\n"
     ]
    }
   ],
   "source": [
    "%matplotlib inline\n",
    "import pandas as pd\n",
    "import numpy as np\n",
    "\n",
    "%run ../flaskr/queries.py"
   ]
  },
  {
   "cell_type": "markdown",
   "metadata": {},
   "source": [
    "Get totals plus results for a specific query. The specific query needs to be normalized. "
   ]
  },
  {
   "cell_type": "code",
   "execution_count": 23,
   "metadata": {
    "collapsed": false
   },
   "outputs": [
    {
     "name": "stdout",
     "output_type": "stream",
     "text": [
      "Query took  48\n",
      "Query took  1\n"
     ]
    },
    {
     "name": "stderr",
     "output_type": "stream",
     "text": [
      "/Users/dirkhovy/anaconda/envs/py3.4/lib/python3.4/site-packages/pandas/core/common.py:516: FutureWarning: elementwise comparison failed; returning scalar instead, but in the future will perform elementwise comparison\n",
      "  mask = arr == x\n"
     ]
    },
    {
     "data": {
      "text/plain": [
       "1093"
      ]
     },
     "execution_count": 23,
     "metadata": {},
     "output_type": "execute_result"
    }
   ],
   "source": [
    "country_code = 'dk'\n",
    "totals = simple_query_totals()\n",
    "country_mask = totals.country_code == country_code\n",
    "totals = totals[country_mask]\n",
    "\n",
    "specific_query = simple_query_totals({\"query\": \"body_text_ws:flot\", \n",
    "                                      \"filter\": [\"country_s:dk\", \"langid_s:da\"]})\n",
    "specific_query = specific_query[specific_query.country_code == 'dk']\n",
    "len(specific_query)"
   ]
  },
  {
   "cell_type": "markdown",
   "metadata": {},
   "source": [
    "### Gender distribution"
   ]
  },
  {
   "cell_type": "code",
   "execution_count": 21,
   "metadata": {
    "collapsed": false
   },
   "outputs": [
    {
     "data": {
      "text/plain": [
       "gender\n",
       "F    2146\n",
       "M    2015\n",
       "Name: num_docs, dtype: int64"
      ]
     },
     "execution_count": 21,
     "metadata": {},
     "output_type": "execute_result"
    }
   ],
   "source": [
    "gender_totals = totals.groupby('gender').num_docs.sum()\n",
    "gender_query = specific_query.groupby('gender').num_docs.sum()\n",
    "gender_query"
   ]
  },
  {
   "cell_type": "markdown",
   "metadata": {},
   "source": [
    "Percentage of male and female documents that contain the term. The two bars do not sum to 1, and in fact can be over 1 over when added."
   ]
  },
  {
   "cell_type": "code",
   "execution_count": 22,
   "metadata": {
    "collapsed": false
   },
   "outputs": [
    {
     "data": {
      "text/plain": [
       "<matplotlib.axes._subplots.AxesSubplot at 0x11243f208>"
      ]
     },
     "execution_count": 22,
     "metadata": {},
     "output_type": "execute_result"
    },
    {
     "data": {
      "image/png": "[encoded data removed]",
      "text/plain": [
       "<matplotlib.figure.Figure at 0x112ad2a20>"
      ]
     },
     "metadata": {},
     "output_type": "display_data"
    }
   ],
   "source": [
    "(gender_query / gender_totals).plot(kind='bar')"
   ]
  },
  {
   "cell_type": "markdown",
   "metadata": {},
   "source": [
    "If we pretend that the dataset is balanced, that is the number of females and males are equal, we can present a figure that shows how the found documents are distributed. The phrasing could be something like \"adjusted for sample size\"."
   ]
  },
  {
   "cell_type": "code",
   "execution_count": 53,
   "metadata": {
    "collapsed": false
   },
   "outputs": [
    {
     "data": {
      "text/plain": [
       "<matplotlib.axes._subplots.AxesSubplot at 0x111a6e5c0>"
      ]
     },
     "execution_count": 53,
     "metadata": {},
     "output_type": "execute_result"
    },
    {
     "data": {
      "image/png": "[encoded data removed]",
      "text/plain": [
       "<matplotlib.figure.Figure at 0x10f978198>"
      ]
     },
     "metadata": {},
     "output_type": "display_data"
    }
   ],
   "source": [
    "abs_percentages = gender_query / gender_totals\n",
    "renormalizer = 1.0 / abs_percentages.sum()\n",
    "(abs_percentages * renormalizer).plot(kind='bar')"
   ]
  },
  {
   "cell_type": "markdown",
   "metadata": {},
   "source": [
    "## Age distribution"
   ]
  },
  {
   "cell_type": "code",
   "execution_count": 60,
   "metadata": {
    "collapsed": false
   },
   "outputs": [
    {
     "data": {
      "text/plain": [
       "age\n",
       "16     24\n",
       "17     42\n",
       "18     37\n",
       "19     58\n",
       "20     68\n",
       "21     69\n",
       "22    100\n",
       "23     89\n",
       "24    106\n",
       "25     75\n",
       "26     98\n",
       "27     93\n",
       "28    107\n",
       "29    112\n",
       "30     98\n",
       "31    105\n",
       "32    114\n",
       "33     85\n",
       "34    120\n",
       "35     89\n",
       "36     92\n",
       "37     97\n",
       "38    120\n",
       "39     88\n",
       "40     96\n",
       "41     95\n",
       "42     86\n",
       "43     96\n",
       "44     73\n",
       "45     59\n",
       "     ... \n",
       "50     80\n",
       "51     80\n",
       "52     56\n",
       "53     65\n",
       "54     73\n",
       "55     59\n",
       "56     52\n",
       "57     61\n",
       "58     35\n",
       "59     45\n",
       "60     52\n",
       "61     49\n",
       "62     50\n",
       "63     28\n",
       "64     42\n",
       "65     55\n",
       "66     31\n",
       "67     33\n",
       "68     24\n",
       "69     19\n",
       "70     19\n",
       "71     13\n",
       "72      9\n",
       "73      6\n",
       "74      2\n",
       "75      5\n",
       "76      1\n",
       "77      1\n",
       "78      2\n",
       "79      2\n",
       "Name: num_docs, dtype: int64"
      ]
     },
     "execution_count": 60,
     "metadata": {},
     "output_type": "execute_result"
    },
    {
     "data": {
      "image/png": "[encoded data removed]",
      "text/plain": [
       "<matplotlib.figure.Figure at 0x11166fa58>"
      ]
     },
     "metadata": {},
     "output_type": "display_data"
    }
   ],
   "source": [
    "def sort_and_filter_age(age_df):\n",
    "    age_df.index = age_df.index.astype(int)\n",
    "    ages_index = [age for age in sorted(age_df.index)\n",
    "                  if age >= 16\n",
    "                  if age <= 80]\n",
    "    return age_df.ix[ages_index]\n",
    "\n",
    "age_totals = totals.groupby('age').num_docs.sum()\n",
    "age_totals = sort_and_filter_age(age_totals)\n",
    "age_totals_norm = age_totals / age_totals.sum()\n",
    "\n",
    "age_specific_query = specific_query.groupby('age').num_docs.sum()\n",
    "age_specific_query = sort_and_filter_age(age_specific_query)\n",
    "age_specific_query_norm = age_specific_query / age_specific_query.sum()\n",
    "\n",
    "compare_df = pd.DataFrame({'base': age_totals_norm, 'query': age_specific_query_norm})\n",
    "\n",
    "compare_df.plot()\n",
    "age_specific_query"
   ]
  },
  {
   "cell_type": "markdown",
   "metadata": {},
   "source": [
    "Less jagged graphs with rolling mean."
   ]
  },
  {
   "cell_type": "code",
   "execution_count": 115,
   "metadata": {
    "collapsed": false
   },
   "outputs": [
    {
     "data": {
      "text/plain": [
       "<matplotlib.axes._subplots.AxesSubplot at 0x1157a2080>"
      ]
     },
     "execution_count": 115,
     "metadata": {},
     "output_type": "execute_result"
    },
    {
     "data": {
      "image/png": "[encoded data removed]",
      "text/plain": [
       "<matplotlib.figure.Figure at 0x1157ac3c8>"
      ]
     },
     "metadata": {},
     "output_type": "display_data"
    }
   ],
   "source": [
    "compare_df = pd.DataFrame({'base': age_totals_norm, \n",
    "                           'query': pd.rolling_mean(age_specific_query_norm, 4)})\n",
    "\n",
    "compare_df.plot()"
   ]
  },
  {
   "cell_type": "markdown",
   "metadata": {},
   "source": [
    "## Age and gender\n",
    "\n",
    "A slight variation on plotting by age"
   ]
  },
  {
   "cell_type": "code",
   "execution_count": 132,
   "metadata": {
    "collapsed": false
   },
   "outputs": [],
   "source": [
    "def prepare_age_and_gender(df):\n",
    "    age_gender_df = df.groupby(['age', 'gender']).num_docs.sum()\n",
    "    age_gender_df = age_gender_df.unstack('gender')\n",
    "    age_gender_df = sort_and_filter_age(age_gender_df)\n",
    "    \n",
    "    # Normalize\n",
    "    return (age_gender_df / age_gender_df.sum())    \n",
    "\n",
    "age_and_gender_totals = prepare_age_and_gender(totals)\n",
    "age_and_gender_specific_query = prepare_age_and_gender(specific_query)"
   ]
  },
  {
   "cell_type": "code",
   "execution_count": 135,
   "metadata": {
    "collapsed": false
   },
   "outputs": [
    {
     "data": {
      "text/plain": [
       "<matplotlib.axes._subplots.AxesSubplot at 0x115d25828>"
      ]
     },
     "execution_count": 135,
     "metadata": {},
     "output_type": "execute_result"
    },
    {
     "data": {
      "image/png": "[encoded data removed]",
      "text/plain": [
       "<matplotlib.figure.Figure at 0x115dfc898>"
      ]
     },
     "metadata": {},
     "output_type": "display_data"
    }
   ],
   "source": [
    "compare_male_df = pd.DataFrame({'base': age_and_gender_totals['M'],\n",
    "                                'query': age_and_gender_specific_query['M']})\n",
    "\n",
    "compare_male_df.plot()"
   ]
  },
  {
   "cell_type": "code",
   "execution_count": 136,
   "metadata": {
    "collapsed": false
   },
   "outputs": [
    {
     "data": {
      "text/plain": [
       "<matplotlib.axes._subplots.AxesSubplot at 0x115e106d8>"
      ]
     },
     "execution_count": 136,
     "metadata": {},
     "output_type": "execute_result"
    },
    {
     "data": {
      "image/png": "[encoded data removed]",
      "text/plain": [
       "<matplotlib.figure.Figure at 0x115e53eb8>"
      ]
     },
     "metadata": {},
     "output_type": "display_data"
    }
   ],
   "source": [
    "compare_female_df = pd.DataFrame({'base': age_and_gender_totals['F'],\n",
    "                                'query': age_and_gender_specific_query['F']})\n",
    "\n",
    "compare_female_df.plot()"
   ]
  },
  {
   "cell_type": "code",
   "execution_count": 64,
   "metadata": {
    "collapsed": false
   },
   "outputs": [
    {
     "name": "stderr",
     "output_type": "stream",
     "text": [
      "ERROR:/Users/dirkhovy/anaconda/envs/py3.4/lib/python3.4/site-packages/bokeh/core/validation/check.py:W-1001 (NO_DATA_RENDERERS): Plot has no data renderers: Figure, ViewModel:Plot, ref _id: c3c23eda-1415-4913-bdec-6877ce8c841b\n",
      "ERROR:/Users/dirkhovy/anaconda/envs/py3.4/lib/python3.4/site-packages/bokeh/core/validation/check.py:W-1001 (NO_DATA_RENDERERS): Plot has no data renderers: Figure, ViewModel:Plot, ref _id: 0e93cd47-7f1a-49e7-9f47-27277e92d011\n"
     ]
    },
    {
     "data": {
      "text/plain": [
       "age\n",
       "15    0.000000\n",
       "11    0.000000\n",
       "9     0.000000\n",
       "10    0.000000\n",
       "14    0.000000\n",
       "12    0.000000\n",
       "13    0.000000\n",
       "8     0.000000\n",
       "7     0.000000\n",
       "6     0.000000\n",
       "5     0.000000\n",
       "4     0.000000\n",
       "3     0.000000\n",
       "2     0.000000\n",
       "0     0.000000\n",
       "1     0.000000\n",
       "77    0.000253\n",
       "76    0.000253\n",
       "74    0.000505\n",
       "78    0.000505\n",
       "79    0.000505\n",
       "75    0.001263\n",
       "73    0.001515\n",
       "72    0.002273\n",
       "71    0.003283\n",
       "70    0.004798\n",
       "69    0.004798\n",
       "68    0.006061\n",
       "16    0.006061\n",
       "63    0.007071\n",
       "        ...   \n",
       "54    0.018434\n",
       "44    0.018434\n",
       "48    0.018434\n",
       "25    0.018939\n",
       "51    0.020202\n",
       "50    0.020202\n",
       "49    0.020202\n",
       "47    0.020455\n",
       "33    0.021465\n",
       "42    0.021717\n",
       "46    0.021717\n",
       "39    0.022222\n",
       "23    0.022475\n",
       "35    0.022475\n",
       "36    0.023232\n",
       "27    0.023485\n",
       "41    0.023990\n",
       "40    0.024242\n",
       "43    0.024242\n",
       "37    0.024495\n",
       "30    0.024747\n",
       "26    0.024747\n",
       "22    0.025253\n",
       "31    0.026515\n",
       "24    0.026768\n",
       "28    0.027020\n",
       "29    0.028283\n",
       "32    0.028788\n",
       "34    0.030303\n",
       "38    0.030303\n",
       "Name: num_docs, dtype: float64"
      ]
     },
     "execution_count": 64,
     "metadata": {},
     "output_type": "execute_result"
    }
   ],
   "source": [
    "from bokeh.plotting import figure, output_file, show\n",
    "for i in range(0, 16):\n",
    "    age_specific_query_norm.ix[i] = 0\n",
    "age_specific_query_norm.sort()\n",
    "\n",
    "xs = list(map(str, age_specific_query_norm.index.tolist()))\n",
    "p = figure(plot_width=400, plot_height=400)\n",
    "p.line(pd.rolling_mean(age_specific_query_norm, 4))\n",
    "\n",
    "output_file('line.html')\n",
    "show(line)\n",
    "age_specific_query_norm"
   ]
  },
  {
   "cell_type": "markdown",
   "metadata": {
    "collapsed": true
   },
   "source": [
    "## Region"
   ]
  },
  {
   "cell_type": "code",
   "execution_count": 31,
   "metadata": {
    "collapsed": false
   },
   "outputs": [
    {
     "data": {
      "text/plain": [
       "4161"
      ]
     },
     "execution_count": 31,
     "metadata": {},
     "output_type": "execute_result"
    }
   ],
   "source": [
    "nuts_total = totals.groupby('nuts_3').num_docs.sum()\n",
    "nuts_query = specific_query.groupby('nuts_3').num_docs.sum()\n",
    "nuts_total = nuts_query.sum()\n",
    "nuts_query_norm = nuts_query / nuts_total\n",
    "nuts_total"
   ]
  },
  {
   "cell_type": "code",
   "execution_count": 42,
   "metadata": {
    "collapsed": false
   },
   "outputs": [
    {
     "data": {
      "text/plain": [
       "list"
      ]
     },
     "execution_count": 42,
     "metadata": {},
     "output_type": "execute_result"
    }
   ],
   "source": [
    "xs = list(map(str, age_specific_query_norm.index.tolist()))\n",
    "type(xs)"
   ]
  },
  {
   "cell_type": "code",
   "execution_count": 55,
   "metadata": {
    "collapsed": false
   },
   "outputs": [],
   "source": [
    "age_specific_query_norm.ix[0] = 0"
   ]
  },
  {
   "cell_type": "code",
   "execution_count": 56,
   "metadata": {
    "collapsed": false
   },
   "outputs": [
    {
     "data": {
      "text/plain": [
       "age\n",
       "16    0.006061\n",
       "17    0.010606\n",
       "18    0.009343\n",
       "19    0.014646\n",
       "20    0.017172\n",
       "21    0.017424\n",
       "22    0.025253\n",
       "23    0.022475\n",
       "24    0.026768\n",
       "25    0.018939\n",
       "26    0.024747\n",
       "27    0.023485\n",
       "28    0.027020\n",
       "29    0.028283\n",
       "30    0.024747\n",
       "31    0.026515\n",
       "32    0.028788\n",
       "33    0.021465\n",
       "34    0.030303\n",
       "35    0.022475\n",
       "36    0.023232\n",
       "37    0.024495\n",
       "38    0.030303\n",
       "39    0.022222\n",
       "40    0.024242\n",
       "41    0.023990\n",
       "42    0.021717\n",
       "43    0.024242\n",
       "44    0.018434\n",
       "45    0.014899\n",
       "        ...   \n",
       "51    0.020202\n",
       "52    0.014141\n",
       "53    0.016414\n",
       "54    0.018434\n",
       "55    0.014899\n",
       "56    0.013131\n",
       "57    0.015404\n",
       "58    0.008838\n",
       "59    0.011364\n",
       "60    0.013131\n",
       "61    0.012374\n",
       "62    0.012626\n",
       "63    0.007071\n",
       "64    0.010606\n",
       "65    0.013889\n",
       "66    0.007828\n",
       "67    0.008333\n",
       "68    0.006061\n",
       "69    0.004798\n",
       "70    0.004798\n",
       "71    0.003283\n",
       "72    0.002273\n",
       "73    0.001515\n",
       "74    0.000505\n",
       "75    0.001263\n",
       "76    0.000253\n",
       "77    0.000253\n",
       "78    0.000505\n",
       "79    0.000505\n",
       "0     0.000000\n",
       "Name: num_docs, dtype: float64"
      ]
     },
     "execution_count": 56,
     "metadata": {},
     "output_type": "execute_result"
    }
   ],
   "source": [
    "age_specific_query_norm"
   ]
  },
  {
   "cell_type": "code",
   "execution_count": null,
   "metadata": {
    "collapsed": true
   },
   "outputs": [],
   "source": []
  }
 ],
 "metadata": {
  "kernelspec": {
   "display_name": "Python 3",
   "language": "python",
   "name": "python3"
  },
  "language_info": {
   "codemirror_mode": {
    "name": "ipython",
    "version": 3
   },
   "file_extension": ".py",
   "mimetype": "text/x-python",
   "name": "python",
   "nbconvert_exporter": "python",
   "pygments_lexer": "ipython3",
   "version": "3.4.4"
  }
 },
 "nbformat": 4,
 "nbformat_minor": 0
}
